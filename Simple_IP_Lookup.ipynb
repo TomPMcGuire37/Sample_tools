{
 "cells": [
  {
   "cell_type": "code",
   "execution_count": 1,
   "id": "b3f75857",
   "metadata": {},
   "outputs": [],
   "source": [
    "import os\n",
    "import subprocess"
   ]
  },
  {
   "cell_type": "code",
   "execution_count": 10,
   "id": "6be83bb9",
   "metadata": {},
   "outputs": [
    {
     "name": "stdout",
     "output_type": "stream",
     "text": [
      "Name:    google.com\r\n",
      "Addresses:  2607:f8b0:4004:82f::200e\r\n",
      "\t  172.217.0.46\r\n",
      "\r\n",
      "\n"
     ]
    }
   ],
   "source": [
    "quick_check =subprocess.check_output(['nslookup', 'google.com'])\n",
    "quick_check = quick_check.decode('utf-8')\n",
    "print(quick_check[61:])"
   ]
  },
  {
   "cell_type": "code",
   "execution_count": 13,
   "id": "b6812c2b",
   "metadata": {},
   "outputs": [],
   "source": [
    "import numpy as np\n",
    "import pandas as pd"
   ]
  },
  {
   "cell_type": "code",
   "execution_count": 14,
   "id": "27f428a0",
   "metadata": {},
   "outputs": [
    {
     "data": {
      "text/html": [
       "<div>\n",
       "<style scoped>\n",
       "    .dataframe tbody tr th:only-of-type {\n",
       "        vertical-align: middle;\n",
       "    }\n",
       "\n",
       "    .dataframe tbody tr th {\n",
       "        vertical-align: top;\n",
       "    }\n",
       "\n",
       "    .dataframe thead th {\n",
       "        text-align: right;\n",
       "    }\n",
       "</style>\n",
       "<table border=\"1\" class=\"dataframe\">\n",
       "  <thead>\n",
       "    <tr style=\"text-align: right;\">\n",
       "      <th></th>\n",
       "      <th>IP Address</th>\n",
       "      <th>ISP</th>\n",
       "      <th>Class</th>\n",
       "      <th>Hostname</th>\n",
       "    </tr>\n",
       "  </thead>\n",
       "  <tbody>\n",
       "    <tr>\n",
       "      <th>0</th>\n",
       "      <td>12.132.119.202</td>\n",
       "      <td>AT&amp;T</td>\n",
       "      <td>A</td>\n",
       "      <td>NaN</td>\n",
       "    </tr>\n",
       "    <tr>\n",
       "      <th>1</th>\n",
       "      <td>100.12.128.219</td>\n",
       "      <td>Verizon Fios</td>\n",
       "      <td>A</td>\n",
       "      <td>verizon.net</td>\n",
       "    </tr>\n",
       "    <tr>\n",
       "      <th>2</th>\n",
       "      <td>100.34.160.96</td>\n",
       "      <td>Verizon Fios</td>\n",
       "      <td>A</td>\n",
       "      <td>verizon.net</td>\n",
       "    </tr>\n",
       "    <tr>\n",
       "      <th>3</th>\n",
       "      <td>100.35.162.22</td>\n",
       "      <td>Verizon</td>\n",
       "      <td>A</td>\n",
       "      <td>verizon.net</td>\n",
       "    </tr>\n",
       "    <tr>\n",
       "      <th>4</th>\n",
       "      <td>100.37.53.167</td>\n",
       "      <td>Verizon Fios</td>\n",
       "      <td>A</td>\n",
       "      <td>verizon.net</td>\n",
       "    </tr>\n",
       "  </tbody>\n",
       "</table>\n",
       "</div>"
      ],
      "text/plain": [
       "       IP Address           ISP Class     Hostname\n",
       "0  12.132.119.202          AT&T     A          NaN\n",
       "1  100.12.128.219  Verizon Fios     A  verizon.net\n",
       "2   100.34.160.96  Verizon Fios     A  verizon.net\n",
       "3   100.35.162.22       Verizon     A  verizon.net\n",
       "4   100.37.53.167  Verizon Fios     A  verizon.net"
      ]
     },
     "execution_count": 14,
     "metadata": {},
     "output_type": "execute_result"
    }
   ],
   "source": [
    "ip_add = pd.read_csv('IP Addresses_ISP.csv')\n",
    "ip_add.head()"
   ]
  },
  {
   "cell_type": "code",
   "execution_count": 15,
   "id": "ebd68c5f",
   "metadata": {},
   "outputs": [
    {
     "data": {
      "text/plain": [
       "0    12.132.119.202\n",
       "1    100.12.128.219\n",
       "2     100.34.160.96\n",
       "3     100.35.162.22\n",
       "4     100.37.53.167\n",
       "Name: IP Address, dtype: object"
      ]
     },
     "execution_count": 15,
     "metadata": {},
     "output_type": "execute_result"
    }
   ],
   "source": [
    "ip_add = ip_add['IP Address']\n",
    "ip_add.head()"
   ]
  },
  {
   "cell_type": "code",
   "execution_count": 16,
   "id": "1f80c6cb",
   "metadata": {},
   "outputs": [],
   "source": [
    "master_ip = []\n",
    "for i in ip_add:\n",
    "    master_ip.append(i)"
   ]
  },
  {
   "cell_type": "code",
   "execution_count": 17,
   "id": "65d0eb8d",
   "metadata": {},
   "outputs": [
    {
     "data": {
      "text/plain": [
       "['12.132.119.202',\n",
       " '100.12.128.219',\n",
       " '100.34.160.96',\n",
       " '100.35.162.22',\n",
       " '100.37.53.167',\n",
       " '100.38.34.183',\n",
       " '102.129.195.93',\n",
       " '104.166.203.132',\n",
       " '104.179.13.100',\n",
       " '104.181.244.91',\n",
       " '104.212.58.126',\n",
       " '104.212.59.254',\n",
       " '104.222.21.177',\n",
       " '104.28.103.102',\n",
       " '104.28.103.106',\n",
       " '104.28.103.114',\n",
       " '104.28.103.119',\n",
       " '104.28.103.127',\n",
       " '104.28.103.132',\n",
       " '104.28.103.17',\n",
       " '104.28.103.215',\n",
       " '104.28.104.104',\n",
       " '104.28.104.166',\n",
       " '104.28.104.20',\n",
       " '104.28.104.27',\n",
       " '104.28.111.164',\n",
       " '104.28.116.38',\n",
       " '104.28.123.7',\n",
       " '104.28.124.60',\n",
       " '104.28.135.80',\n",
       " '104.28.32.227',\n",
       " '104.28.50.102',\n",
       " '104.28.50.199',\n",
       " '104.28.55.179',\n",
       " '104.28.56.3',\n",
       " '104.28.71.118',\n",
       " '107.10.250.141',\n",
       " '107.146.236.68',\n",
       " '107.199.114.160',\n",
       " '107.77.200.177',\n",
       " '107.77.202.170',\n",
       " '108.194.255.222',\n",
       " '108.197.74.154',\n",
       " '119.12.190.36',\n",
       " '12.176.247.150',\n",
       " '128.104.209.44',\n",
       " '128.249.96.51',\n",
       " '136.37.219.21',\n",
       " '14.179.39.214',\n",
       " '143.255.57.72',\n",
       " '153.48.247.250',\n",
       " '155.190.3.5',\n",
       " '157.131.199.198',\n",
       " '161.249.179.132',\n",
       " '163.116.140.63',\n",
       " '164.68.221.207',\n",
       " '165.104.250.5',\n",
       " '169.228.154.194',\n",
       " '170.223.193.162',\n",
       " '172.224.242.128',\n",
       " '172.224.242.129',\n",
       " '172.224.242.188',\n",
       " '172.224.242.218',\n",
       " '172.225.13.51',\n",
       " '172.225.198.131',\n",
       " '172.226.19.63',\n",
       " '173.196.218.182',\n",
       " '174.202.38.83',\n",
       " '184.55.138.220',\n",
       " '192.189.58.2',\n",
       " '209.133.195.139',\n",
       " '209.73.183.19',\n",
       " '209.73.183.26',\n",
       " '209.73.183.60',\n",
       " '209.82.160.146',\n",
       " '212.82.108.126',\n",
       " '217.114.38.72',\n",
       " '23.113.247.96',\n",
       " '24.11.165.227',\n",
       " '24.120.29.11',\n",
       " '24.126.24.185',\n",
       " '24.160.184.246',\n",
       " '24.160.184.32',\n",
       " '24.21.245.7',\n",
       " '24.21.245.7',\n",
       " '3.128.90.176',\n",
       " '34.227.71.67',\n",
       " '35.129.82.125',\n",
       " '40.94.35.126',\n",
       " '45.144.113.63',\n",
       " '45.50.100.234',\n",
       " '47.186.151.149',\n",
       " '47.208.21.15',\n",
       " '47.219.222.223',\n",
       " '47.35.178.159',\n",
       " '49.2.181.212',\n",
       " '50.212.68.169',\n",
       " '50.250.175.193',\n",
       " '50.250.175.193',\n",
       " '50.39.113.79',\n",
       " '50.89.107.13',\n",
       " '50.89.60.151',\n",
       " '52.137.94.18',\n",
       " '52.141.211.216',\n",
       " '52.141.212.146',\n",
       " '52.147.217.209',\n",
       " '52.154.162.74',\n",
       " '54.219.52.4',\n",
       " '66.102.8.46',\n",
       " '66.102.8.48',\n",
       " '66.161.185.150',\n",
       " '66.177.100.191',\n",
       " '66.177.100.191',\n",
       " '66.188.202.26',\n",
       " '66.190.61.203',\n",
       " '66.190.61.203',\n",
       " '66.234.222.80',\n",
       " '66.234.222.80',\n",
       " '66.249.84.102',\n",
       " '66.249.84.73',\n",
       " '66.249.88.1',\n",
       " '66.27.66.5',\n",
       " '66.41.241.216',\n",
       " '67.140.134.8',\n",
       " '67.81.211.152',\n",
       " '69.147.93.139',\n",
       " '71.161.94.14',\n",
       " '72.14.199.6',\n",
       " '74.125.214.1',\n",
       " '75.100.98.84',\n",
       " '75.168.132.89',\n",
       " '75.190.97.169',\n",
       " '75.43.141.91',\n",
       " '75.66.5.177',\n",
       " '76.104.187.162',\n",
       " '76.107.150.234',\n",
       " '76.181.160.247',\n",
       " '76.219.129.59',\n",
       " '76.242.163.54',\n",
       " '76.250.202.171',\n",
       " '76.65.38.105',\n",
       " '76.91.241.214',\n",
       " '81.62.218.138',\n",
       " '84.17.35.232',\n",
       " '87.101.93.134',\n",
       " '96.252.97.244',\n",
       " '97.70.191.118',\n",
       " '98.210.64.159',\n",
       " '98.235.152.198',\n",
       " '98.240.200.129',\n",
       " '98.253.163.224',\n",
       " '98.29.230.41',\n",
       " '99.0.26.204',\n",
       " '99.186.18.6',\n",
       " '99.23.156.133',\n",
       " '99.27.56.120',\n",
       " '99.29.7.128',\n",
       " '99.36.100.77',\n",
       " '99.99.180.82']"
      ]
     },
     "execution_count": 17,
     "metadata": {},
     "output_type": "execute_result"
    }
   ],
   "source": [
    "master_ip"
   ]
  },
  {
   "cell_type": "code",
   "execution_count": 18,
   "id": "1de10f6b",
   "metadata": {},
   "outputs": [
    {
     "data": {
      "text/plain": [
       "159"
      ]
     },
     "execution_count": 18,
     "metadata": {},
     "output_type": "execute_result"
    }
   ],
   "source": [
    "len(master_ip)"
   ]
  },
  {
   "cell_type": "code",
   "execution_count": 19,
   "id": "f21acdb5",
   "metadata": {},
   "outputs": [],
   "source": [
    "master_2 = []\n",
    "for i in master_ip:\n",
    "    master_2.append(subprocess.check_output(['nslookup', i]))"
   ]
  },
  {
   "cell_type": "code",
   "execution_count": 20,
   "id": "392c5228",
   "metadata": {
    "scrolled": true
   },
   "outputs": [
    {
     "name": "stdout",
     "output_type": "stream",
     "text": [
      "Name:    pool-100-12-128-219.nycmny.fios.verizon.net\r\n",
      "Address:  100.12.128.219\r\n",
      "\r\n",
      "\n"
     ]
    }
   ],
   "source": [
    "test_obj = master_2[1].decode('utf-8')\n",
    "print(test_obj[61:])"
   ]
  },
  {
   "cell_type": "code",
   "execution_count": 21,
   "id": "e191698d",
   "metadata": {},
   "outputs": [],
   "source": [
    "list_3 = [x.decode('utf-8') for x in master_2]"
   ]
  },
  {
   "cell_type": "code",
   "execution_count": 22,
   "id": "79b123cb",
   "metadata": {},
   "outputs": [],
   "source": [
    "#print(list_3[0])\n",
    "#print(list_3[0].split())"
   ]
  },
  {
   "cell_type": "code",
   "execution_count": 23,
   "id": "b64d770f",
   "metadata": {},
   "outputs": [],
   "source": [
    "#print(list_3[1])\n",
    "#print(list_3[1].split())"
   ]
  },
  {
   "cell_type": "code",
   "execution_count": 24,
   "id": "a4c2bca7",
   "metadata": {},
   "outputs": [],
   "source": [
    "ip_host = []\n",
    "ip_add = []\n",
    "for i in list_3:\n",
    "    if len(i.split()) > 4:\n",
    "        ip_host.append(i.split()[5])\n",
    "        ip_add.append(i.split()[7])"
   ]
  },
  {
   "cell_type": "code",
   "execution_count": 25,
   "id": "1df8a2f9",
   "metadata": {},
   "outputs": [
    {
     "data": {
      "text/plain": [
       "['pool-100-12-128-219.nycmny.fios.verizon.net',\n",
       " 'pool-100-34-160-96.phlapa.fios.verizon.net',\n",
       " 'pool-100-35-162-22.nwrknj.fios.verizon.net',\n",
       " 'pool-100-37-53-167.nycmny.fios.verizon.net',\n",
       " 'pool-100-38-34-183.nycmny.fios.verizon.net',\n",
       " 'cerberus.scoutlane.net',\n",
       " '104-166-203-132.client.mchsi.com',\n",
       " '104-179-13-100.lightspeed.rcsntx.sbcglobal.net',\n",
       " '104-181-244-91.lightspeed.lsvlky.sbcglobal.net',\n",
       " 'cpe-107-10-250-141.neo.res.rr.com',\n",
       " '107-146-236-068.res.spectrum.com',\n",
       " '107-199-114-160.lightspeed.cicril.sbcglobal.net',\n",
       " 'mobile-107-77-200-177.mobile.att.net',\n",
       " 'mobile-107-77-202-170.mobile.att.net',\n",
       " '108-194-255-222.lightspeed.sntcca.sbcglobal.net',\n",
       " '108-197-74-154.lightspeed.gnvlsc.sbcglobal.net',\n",
       " 'host150.comhs.org',\n",
       " 'dom09044.medicine.wisc.edu',\n",
       " '136-37-219-21.googlefiber.net',\n",
       " 'static.vnpt.vn',\n",
       " '143-255-57-72.static.hostdime.com',\n",
       " '157-131-199-198.fiber.dynamic.sonic.net',\n",
       " '164.68.221.207.hwccustomers.com',\n",
       " 'request',\n",
       " 'shilab-pc.partners.org',\n",
       " 'a172-224-242-128.source.akaquill.net',\n",
       " 'a172-224-242-129.source.akaquill.net',\n",
       " 'a172-224-242-188.source.akaquill.net',\n",
       " 'a172-224-242-218.source.akaquill.net',\n",
       " 'a172-225-13-51.deploy.static.akamaitechnologies.com',\n",
       " 'a172-225-198-131.deploy.static.akamaitechnologies.com',\n",
       " 'a172-226-19-63.deploy.static.akamaitechnologies.com',\n",
       " 'rrcs-173-196-218-182.west.biz.rr.com',\n",
       " '83.sub-174-202-38.myvzw.com',\n",
       " 'mta-184-55-138-220.wi.rr.com',\n",
       " 'junior.piedmont.org',\n",
       " '209-133-195-139.static.hvvc.us',\n",
       " 'ec4.ycs.bf1.yahoo.net',\n",
       " 'ec8.ycs.bf1.yahoo.net',\n",
       " 'ec9.ycs.bf1.yahoo.net',\n",
       " '209.82.160.146.IDIA-275672-ZYO.zip.zayo.com',\n",
       " 'ec7.ycs.ir2.yahoo.net',\n",
       " '23-113-247-96.lightspeed.jcvlfl.sbcglobal.net',\n",
       " 'c-24-11-165-227.hsd1.sc.comcast.net',\n",
       " 'wsip-24-120-29-11.lv.lv.cox.net',\n",
       " 'c-24-126-24-185.hsd1.dc.comcast.net',\n",
       " 'cpe-24-160-184-246.columbus.res.rr.com',\n",
       " 'cpe-24-160-184-32.columbus.res.rr.com',\n",
       " 'c-24-21-245-7.hsd1.or.comcast.net',\n",
       " 'c-24-21-245-7.hsd1.or.comcast.net',\n",
       " 'ec2-3-128-90-176.us-east-2.compute.amazonaws.com',\n",
       " 'ec2-34-227-71-67.compute-1.amazonaws.com',\n",
       " '035-129-082-125.res.spectrum.com',\n",
       " 'cpe-45-50-100-234.socal.res.rr.com',\n",
       " '47-208-21-15.erkacmtk04.res.dyn.suddenlink.net',\n",
       " '47-219-222-223.lfkncmta01.res.dyn.suddenlink.net',\n",
       " '047-035-178-159.res.spectrum.com',\n",
       " 'request',\n",
       " '50-212-68-169-static.hfc.comcastbusiness.net',\n",
       " '50-250-175-193-static.hfc.comcastbusiness.net',\n",
       " '50-250-175-193-static.hfc.comcastbusiness.net',\n",
       " '50-39-113-79.bvtn.or.ptr.ziplyfiber.com',\n",
       " '050-089-107-013.res.spectrum.com',\n",
       " '050-089-060-151.res.spectrum.com',\n",
       " 'ec2-54-219-52-4.us-west-1.compute.amazonaws.com',\n",
       " 'google-proxy-66-102-8-46.google.com',\n",
       " 'google-proxy-66-102-8-48.google.com',\n",
       " 'fuse-dedicated-66-161-185-150.fuse.net',\n",
       " 'c-66-177-100-191.hsd1.fl.comcast.net',\n",
       " 'c-66-177-100-191.hsd1.fl.comcast.net',\n",
       " '066-188-202-026.res.spectrum.com',\n",
       " '066-190-061-203.res.spectrum.com',\n",
       " '066-190-061-203.res.spectrum.com',\n",
       " 'astound-66-234-222-80.ca.astound.net',\n",
       " 'astound-66-234-222-80.ca.astound.net',\n",
       " 'google-proxy-66-249-84-102.google.com',\n",
       " 'google-proxy-66-249-84-73.google.com',\n",
       " 'google-proxy-66-249-88-1.google.com',\n",
       " 'cpe-66-27-66-5.san.res.rr.com',\n",
       " 'c-66-41-241-216.hsd1.mn.comcast.net',\n",
       " 'h8.134.140.67.dynamic.ip.windstream.net',\n",
       " 'ool-4351d398.dyn.optonline.net',\n",
       " 'ec2.ycs.dca.yahoo.net',\n",
       " 'pool-71-161-94-14.cncdnh.east.myfairpoint.net',\n",
       " 'rate-limited-proxy-72-14-199-6.google.com',\n",
       " 'google-proxy-74-125-214-1.google.com',\n",
       " 'h75-100-98-84.hcrdtn.broadband.dynamic.tds.net',\n",
       " '75-168-132-89.mpls.qwest.net',\n",
       " 'mta-75-190-97-169.carolina.rr.com',\n",
       " '75-43-141-91.lightspeed.hstntx.sbcglobal.net',\n",
       " 'c-75-66-5-177.hsd1.ms.comcast.net',\n",
       " 'c-76-104-187-162.hsd1.wa.comcast.net',\n",
       " 'c-76-107-150-234.hsd1.ms.comcast.net',\n",
       " 'cpe-76-181-160-247.columbus.res.rr.com',\n",
       " '76-219-129-59.lightspeed.livnmi.sbcglobal.net',\n",
       " '76-242-163-54.lightspeed.dybhfl.sbcglobal.net',\n",
       " '76-250-202-171.lightspeed.bcvloh.sbcglobal.net',\n",
       " 'bras-vprn-toroon4836w-lp130-24-76-65-38-105.dsl.bell.ca',\n",
       " 'cpe-76-91-241-214.socal.res.rr.com',\n",
       " '138.218.62.81.static.wline.lns.sme.cust.swisscom.ch',\n",
       " 'unn-84-17-35-232.cdn77.com',\n",
       " 'pool-96-252-97-244.bstnma.fios.verizon.net',\n",
       " '097-070-191-118.res.spectrum.com',\n",
       " 'c-98-210-64-159.hsd1.ca.comcast.net',\n",
       " 'c-98-235-152-198.hsd1.pa.comcast.net',\n",
       " 'c-98-240-200-129.hsd1.mn.comcast.net',\n",
       " 'c-98-253-163-224.hsd1.il.comcast.net',\n",
       " 'mta-98-29-230-41.cinci.rr.com',\n",
       " '99-0-26-204.lightspeed.iplsin.sbcglobal.net',\n",
       " '99-186-18-6.lightspeed.irvnca.sbcglobal.net',\n",
       " '99-23-156-133.lightspeed.livnmi.sbcglobal.net',\n",
       " '99-27-56-120.lightspeed.oshkwi.sbcglobal.net',\n",
       " '99-29-7-128.lightspeed.nrvlmi.sbcglobal.net',\n",
       " '99-36-100-77.lightspeed.gnbonc.sbcglobal.net',\n",
       " '99-99-180-82.lightspeed.clmboh.sbcglobal.net']"
      ]
     },
     "execution_count": 25,
     "metadata": {},
     "output_type": "execute_result"
    }
   ],
   "source": [
    "ip_host"
   ]
  },
  {
   "cell_type": "code",
   "execution_count": 26,
   "id": "a8a5b87b",
   "metadata": {},
   "outputs": [
    {
     "data": {
      "text/plain": [
       "['100.12.128.219',\n",
       " '100.34.160.96',\n",
       " '100.35.162.22',\n",
       " '100.37.53.167',\n",
       " '100.38.34.183',\n",
       " '102.129.195.93',\n",
       " '104.166.203.132',\n",
       " '104.179.13.100',\n",
       " '104.181.244.91',\n",
       " '107.10.250.141',\n",
       " '107.146.236.68',\n",
       " '107.199.114.160',\n",
       " '107.77.200.177',\n",
       " '107.77.202.170',\n",
       " '108.194.255.222',\n",
       " '108.197.74.154',\n",
       " '12.176.247.150',\n",
       " '128.104.209.44',\n",
       " '136.37.219.21',\n",
       " '14.179.39.214',\n",
       " '143.255.57.72',\n",
       " '157.131.199.198',\n",
       " '164.68.221.207',\n",
       " 'out.',\n",
       " '170.223.193.162',\n",
       " '172.224.242.128',\n",
       " '172.224.242.129',\n",
       " '172.224.242.188',\n",
       " '172.224.242.218',\n",
       " '172.225.13.51',\n",
       " '172.225.198.131',\n",
       " '172.226.19.63',\n",
       " '173.196.218.182',\n",
       " '174.202.38.83',\n",
       " '184.55.138.220',\n",
       " '192.189.58.2',\n",
       " '209.133.195.139',\n",
       " '209.73.183.19',\n",
       " '209.73.183.26',\n",
       " '209.73.183.60',\n",
       " '209.82.160.146',\n",
       " '212.82.108.126',\n",
       " '23.113.247.96',\n",
       " '24.11.165.227',\n",
       " '24.120.29.11',\n",
       " '24.126.24.185',\n",
       " '24.160.184.246',\n",
       " '24.160.184.32',\n",
       " '24.21.245.7',\n",
       " '24.21.245.7',\n",
       " '3.128.90.176',\n",
       " '34.227.71.67',\n",
       " '35.129.82.125',\n",
       " '45.50.100.234',\n",
       " '47.208.21.15',\n",
       " '47.219.222.223',\n",
       " '47.35.178.159',\n",
       " 'out.',\n",
       " '50.212.68.169',\n",
       " '50.250.175.193',\n",
       " '50.250.175.193',\n",
       " '50.39.113.79',\n",
       " '50.89.107.13',\n",
       " '50.89.60.151',\n",
       " '54.219.52.4',\n",
       " '66.102.8.46',\n",
       " '66.102.8.48',\n",
       " '66.161.185.150',\n",
       " '66.177.100.191',\n",
       " '66.177.100.191',\n",
       " '66.188.202.26',\n",
       " '66.190.61.203',\n",
       " '66.190.61.203',\n",
       " '66.234.222.80',\n",
       " '66.234.222.80',\n",
       " '66.249.84.102',\n",
       " '66.249.84.73',\n",
       " '66.249.88.1',\n",
       " '66.27.66.5',\n",
       " '66.41.241.216',\n",
       " '67.140.134.8',\n",
       " '67.81.211.152',\n",
       " '69.147.93.139',\n",
       " '71.161.94.14',\n",
       " '72.14.199.6',\n",
       " '74.125.214.1',\n",
       " '75.100.98.84',\n",
       " '75.168.132.89',\n",
       " '75.190.97.169',\n",
       " '75.43.141.91',\n",
       " '75.66.5.177',\n",
       " '76.104.187.162',\n",
       " '76.107.150.234',\n",
       " '76.181.160.247',\n",
       " '76.219.129.59',\n",
       " '76.242.163.54',\n",
       " '76.250.202.171',\n",
       " '76.65.38.105',\n",
       " '76.91.241.214',\n",
       " '81.62.218.138',\n",
       " '84.17.35.232',\n",
       " '96.252.97.244',\n",
       " '97.70.191.118',\n",
       " '98.210.64.159',\n",
       " '98.235.152.198',\n",
       " '98.240.200.129',\n",
       " '98.253.163.224',\n",
       " '98.29.230.41',\n",
       " '99.0.26.204',\n",
       " '99.186.18.6',\n",
       " '99.23.156.133',\n",
       " '99.27.56.120',\n",
       " '99.29.7.128',\n",
       " '99.36.100.77',\n",
       " '99.99.180.82']"
      ]
     },
     "execution_count": 26,
     "metadata": {},
     "output_type": "execute_result"
    }
   ],
   "source": [
    "ip_add"
   ]
  },
  {
   "cell_type": "code",
   "execution_count": 27,
   "id": "33ed143b",
   "metadata": {},
   "outputs": [],
   "source": [
    "df_3 = pd.DataFrame()"
   ]
  },
  {
   "cell_type": "code",
   "execution_count": 28,
   "id": "41d611c8",
   "metadata": {},
   "outputs": [],
   "source": [
    "df_3['IP Address'] = ip_add"
   ]
  },
  {
   "cell_type": "code",
   "execution_count": 29,
   "id": "b02980ec",
   "metadata": {},
   "outputs": [],
   "source": [
    "df_3['IP Host'] = ip_host"
   ]
  },
  {
   "cell_type": "code",
   "execution_count": 30,
   "id": "3bae59e0",
   "metadata": {},
   "outputs": [
    {
     "data": {
      "text/html": [
       "<div>\n",
       "<style scoped>\n",
       "    .dataframe tbody tr th:only-of-type {\n",
       "        vertical-align: middle;\n",
       "    }\n",
       "\n",
       "    .dataframe tbody tr th {\n",
       "        vertical-align: top;\n",
       "    }\n",
       "\n",
       "    .dataframe thead th {\n",
       "        text-align: right;\n",
       "    }\n",
       "</style>\n",
       "<table border=\"1\" class=\"dataframe\">\n",
       "  <thead>\n",
       "    <tr style=\"text-align: right;\">\n",
       "      <th></th>\n",
       "      <th>IP Address</th>\n",
       "      <th>IP Host</th>\n",
       "    </tr>\n",
       "  </thead>\n",
       "  <tbody>\n",
       "    <tr>\n",
       "      <th>0</th>\n",
       "      <td>100.12.128.219</td>\n",
       "      <td>pool-100-12-128-219.nycmny.fios.verizon.net</td>\n",
       "    </tr>\n",
       "    <tr>\n",
       "      <th>1</th>\n",
       "      <td>100.34.160.96</td>\n",
       "      <td>pool-100-34-160-96.phlapa.fios.verizon.net</td>\n",
       "    </tr>\n",
       "    <tr>\n",
       "      <th>2</th>\n",
       "      <td>100.35.162.22</td>\n",
       "      <td>pool-100-35-162-22.nwrknj.fios.verizon.net</td>\n",
       "    </tr>\n",
       "    <tr>\n",
       "      <th>3</th>\n",
       "      <td>100.37.53.167</td>\n",
       "      <td>pool-100-37-53-167.nycmny.fios.verizon.net</td>\n",
       "    </tr>\n",
       "    <tr>\n",
       "      <th>4</th>\n",
       "      <td>100.38.34.183</td>\n",
       "      <td>pool-100-38-34-183.nycmny.fios.verizon.net</td>\n",
       "    </tr>\n",
       "  </tbody>\n",
       "</table>\n",
       "</div>"
      ],
      "text/plain": [
       "       IP Address                                      IP Host\n",
       "0  100.12.128.219  pool-100-12-128-219.nycmny.fios.verizon.net\n",
       "1   100.34.160.96   pool-100-34-160-96.phlapa.fios.verizon.net\n",
       "2   100.35.162.22   pool-100-35-162-22.nwrknj.fios.verizon.net\n",
       "3   100.37.53.167   pool-100-37-53-167.nycmny.fios.verizon.net\n",
       "4   100.38.34.183   pool-100-38-34-183.nycmny.fios.verizon.net"
      ]
     },
     "execution_count": 30,
     "metadata": {},
     "output_type": "execute_result"
    }
   ],
   "source": [
    "df_3.head()"
   ]
  },
  {
   "cell_type": "code",
   "execution_count": 31,
   "id": "360624bd",
   "metadata": {},
   "outputs": [],
   "source": [
    "import csv"
   ]
  },
  {
   "cell_type": "code",
   "execution_count": 26,
   "id": "59794ed6",
   "metadata": {},
   "outputs": [],
   "source": [
    "df_3.to_csv('ip_addresses.csv')"
   ]
  },
  {
   "cell_type": "code",
   "execution_count": null,
   "id": "b2ade7ef",
   "metadata": {},
   "outputs": [],
   "source": []
  },
  {
   "cell_type": "code",
   "execution_count": null,
   "id": "e5f7e3b7",
   "metadata": {},
   "outputs": [],
   "source": []
  },
  {
   "cell_type": "code",
   "execution_count": null,
   "id": "8b541bb5",
   "metadata": {},
   "outputs": [],
   "source": []
  },
  {
   "cell_type": "code",
   "execution_count": null,
   "id": "7bc16a31",
   "metadata": {},
   "outputs": [],
   "source": []
  },
  {
   "cell_type": "code",
   "execution_count": null,
   "id": "009617ba",
   "metadata": {},
   "outputs": [],
   "source": []
  },
  {
   "cell_type": "code",
   "execution_count": null,
   "id": "fd82ad84",
   "metadata": {},
   "outputs": [],
   "source": []
  },
  {
   "cell_type": "code",
   "execution_count": null,
   "id": "3de33321",
   "metadata": {},
   "outputs": [],
   "source": []
  },
  {
   "cell_type": "code",
   "execution_count": null,
   "id": "4f097c32",
   "metadata": {},
   "outputs": [],
   "source": []
  }
 ],
 "metadata": {
  "kernelspec": {
   "display_name": "Python 3",
   "language": "python",
   "name": "python3"
  },
  "language_info": {
   "codemirror_mode": {
    "name": "ipython",
    "version": 3
   },
   "file_extension": ".py",
   "mimetype": "text/x-python",
   "name": "python",
   "nbconvert_exporter": "python",
   "pygments_lexer": "ipython3",
   "version": "3.8.5"
  }
 },
 "nbformat": 4,
 "nbformat_minor": 5
}
